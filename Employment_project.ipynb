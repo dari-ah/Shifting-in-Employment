{
    "metadata": {
        "kernelspec": {
            "name": "SQL",
            "display_name": "SQL",
            "language": "sql"
        },
        "language_info": {
            "name": "sql",
            "version": ""
        }
    },
    "nbformat_minor": 2,
    "nbformat": 4,
    "cells": [
        {
            "cell_type": "markdown",
            "source": [
                "Determine the highest paying job for each year (annually and hourly)\n",
                "\n",
                "Pay annually and Pay hourly specify if a job is being pay strictly one way or another"
            ],
            "metadata": {
                "azdata_cell_guid": "8d75eb14-2dbe-4b8b-970c-b0723d9c928c"
            },
            "attachments": {}
        },
        {
            "cell_type": "code",
            "source": [
                "--Annually \n",
                "/*\n",
                "SELECT MAX(Annually_Mean) AS Highest_Annually, Year\n",
                "FROM Employment_Project..Employment\n",
                "WHERE Pay_Hourly IS NULL\n",
                "GROUP BY Year\n",
                "ORDER BY Year;\n",
                "*/\n",
                "--Note: max annually found a value that may correspond to more than one jobs for each year\n",
                "\n",
                "--Find all the OCC_CODE with the highest annual mean for each year\n",
                "/*\n",
                "SELECT OCC_CODE, Year,\n",
                "       MAX(Annually_Mean) OVER \n",
                "       (\n",
                "           PARTITION BY Year \n",
                "           ORDER BY Year \n",
                "       ) AS Highest_Annually\n",
                "FROM Employment_Project..Employment\n",
                "WHERE Pay_Hourly IS NULL\n",
                "*/\n",
                "/*\n",
                "SELECT OCC_CODE, Year, Annually_Mean AS Highest_Annually\n",
                "FROM Employment_Project..Employment\n",
                "WHERE Annually_Mean = (SELECT MAX(Annually_Mean)\n",
                "                       FROM Employment_Project..Employment\n",
                "                       WHERE Pay_Hourly IS NULL)\n",
                "\n",
                "*/\n",
                "--Note: Find the correct annually amount but not the correct OCC_CODE!!!\n",
                "/*\n",
                "SELECT em.OCC_CODE, em.Year, em.Annually_Mean AS Highest_Annually\n",
                "FROM Employment_Project..Employment em,\n",
                "  (SELECT MAX(Annually_Mean) AS Highest_Annually, Year\n",
                "   FROM Employment_Project..Employment\n",
                "   WHERE Pay_Hourly IS NULL\n",
                "   GROUP BY Year) max_annual\n",
                "WHERE em.Annually_Mean = max_annual.Highest_Annually\n",
                "AND em.Year = max_annual.Year;\n",
                "*/\n",
                "/*\n",
                "--join the table\n",
                "SELECT em.OCC_CODE, jb.Job_Title, em.Annually_Mean, em.Year\n",
                "FROM Employment_Project..Employment em\n",
                "JOIN Employment_Project..Job_type jb\n",
                "    ON em.OCC_CODE = jb.OCC_CODE\n",
                "*/\n",
                "\n",
                "--Find the job title correspond to the max annual. Join job_type and employment table, sort by year\n",
                "WITH max_annually AS (\n",
                "    SELECT em.OCC_CODE, em.Year, em.Annually_Mean AS Highest_Annually\n",
                "    FROM Employment_Project..Employment em,\n",
                "        (SELECT MAX(Annually_Mean) AS Highest_Annually, Year\n",
                "         FROM Employment_Project..Employment\n",
                "         WHERE Pay_Hourly IS NULL\n",
                "         GROUP BY Year) max_annual\n",
                "    WHERE em.Annually_Mean = max_annual.Highest_Annually\n",
                "    AND em.Year = max_annual.Year \n",
                ")\n",
                "SELECT jb.OCC_CODE, jb.Job_Title, jb.OCC_Group, max_annually.Highest_Annually, max_annually.Year \n",
                "FROM Employment_Project..Job_type jb\n",
                "JOIN max_annually\n",
                "    ON jb.OCC_CODE = max_annually.OCC_CODE\n",
                "\n",
                ""
            ],
            "metadata": {
                "azdata_cell_guid": "24c2f4ff-a31e-4425-a7fd-234b182e8702",
                "tags": [
                    "hide_input"
                ],
                "language": "sql"
            },
            "outputs": [],
            "execution_count": null
        },
        {
            "cell_type": "code",
            "source": [
                "--Hourly\n",
                "--Find the highest hourly mean for each year\n",
                "/*\n",
                "SELECT MAX(Hourly_Mean) AS Highest_Hourly, Year\n",
                "FROM Employment_Project..Employment\n",
                "WHERE Pay_Annually IS NULL\n",
                "GROUP BY Year\n",
                "ORDER BY Year;\n",
                "\n",
                "--Find all the OCC_CODE with the highest hourly mean for each year\n",
                "SELECT em.OCC_CODE, em.Year, em.Hourly_Mean AS Highest_Hourly\n",
                "FROM Employment_Project..Employment em,\n",
                "  (SELECT MAX(Hourly_Mean) AS Highest_Hourly, Year\n",
                "   FROM Employment_Project..Employment\n",
                "   WHERE Pay_Annually IS NULL\n",
                "   GROUP BY Year) max_hour\n",
                "WHERE em.Hourly_Mean = max_hour.Highest_Hourly\n",
                "AND em.Year = max_hour.Year;\n",
                "*/\n",
                "--Find the job title correspond to the max hourly. Join job_type and employment table, sort by year\n",
                "WITH max_hourly AS (\n",
                "    SELECT em.OCC_CODE, em.Year, em.Hourly_Mean AS Highest_Hourly\n",
                "    FROM Employment_Project..Employment em,\n",
                "         (SELECT MAX(Hourly_Mean) AS Highest_Hourly, Year\n",
                "          FROM Employment_Project..Employment\n",
                "          WHERE Pay_Annually IS NULL\n",
                "          GROUP BY Year) max_hour\n",
                "    WHERE em.Hourly_Mean = max_hour.Highest_Hourly\n",
                "    AND em.Year = max_hour.Year\n",
                ")\n",
                "SELECT jb.OCC_CODE, jb.Job_Title, jb.OCC_Group, max_hourly.Highest_Hourly, max_hourly.Year \n",
                "FROM Employment_Project..Job_type jb\n",
                "JOIN max_hourly\n",
                "    ON jb.OCC_CODE = max_hourly.OCC_CODE\n",
                "\n",
                "\n",
                ""
            ],
            "metadata": {
                "azdata_cell_guid": "901885a9-6e11-4653-b427-6a3c99dfb494",
                "tags": [
                    "hide_input"
                ],
                "language": "sql"
            },
            "outputs": [],
            "execution_count": null
        },
        {
            "cell_type": "markdown",
            "source": [
                "Lowest paying job for each year"
            ],
            "metadata": {
                "azdata_cell_guid": "afc6970b-d1dd-4e49-856e-f66c4ce55051"
            },
            "attachments": {}
        },
        {
            "cell_type": "code",
            "source": [
                "--Annually\n",
                "--Find the lowest annually mean for each year\n",
                "SELECT MIN(Annually_Mean) AS Lowest_Annually, Year\n",
                "FROM Employment_Project..Employment\n",
                "WHERE Pay_Hourly IS NULL\n",
                "GROUP BY Year\n",
                "ORDER BY Year;\n",
                "\n",
                "--Find the corresponding job title\n",
                "WITH min_annually AS (\n",
                "    SELECT em.OCC_CODE, em.Year, em.Annually_Mean AS Lowest_Annually\n",
                "    FROM Employment_Project..Employment em,\n",
                "        (SELECT MIN(Annually_Mean) AS Lowest_Annually, Year\n",
                "         FROM Employment_Project..Employment\n",
                "         WHERE Pay_Hourly IS NULL\n",
                "         GROUP BY Year) min_annual\n",
                "    WHERE em.Annually_Mean = min_annual.Lowest_Annually\n",
                "    AND em.Year = min_annual.Year \n",
                ")\n",
                "SELECT jb.OCC_CODE, jb.Job_Title, jb.OCC_Group, min_annually.Lowest_Annually, min_annually.Year \n",
                "FROM Employment_Project..Job_type jb\n",
                "JOIN min_annually\n",
                "    ON jb.OCC_CODE = min_annually.OCC_CODE\n",
                ""
            ],
            "metadata": {
                "azdata_cell_guid": "cdf450bc-5fba-45bf-919d-127601aa27d3",
                "tags": [
                    "hide_input"
                ],
                "language": "sql"
            },
            "outputs": [],
            "execution_count": null
        },
        {
            "cell_type": "code",
            "source": [
                "--Hourly\n",
                "--Find the lowest hourly mean for each year\n",
                "SELECT MIN(Hourly_Mean) AS Lowest_Hourly, Year\n",
                "FROM Employment_Project..Employment\n",
                "WHERE Pay_Annually IS NULL\n",
                "GROUP BY Year\n",
                "ORDER BY Year;\n",
                "\n",
                "--Find the corresponding job title\n",
                "WITH min_hourly AS (\n",
                "    SELECT em.OCC_CODE, em.Year, em.Hourly_Mean AS Lowest_Hourly\n",
                "    FROM Employment_Project..Employment em,\n",
                "         (SELECT MIN(Hourly_Mean) AS Lowest_Hourly, Year\n",
                "          FROM Employment_Project..Employment\n",
                "          WHERE Pay_Annually IS NULL\n",
                "          GROUP BY Year) min_hour\n",
                "    WHERE em.Hourly_Mean = min_hour.Lowest_Hourly\n",
                "    AND em.Year = min_hour.Year\n",
                ")\n",
                "SELECT jb.OCC_CODE, jb.Job_Title, jb.OCC_Group, min_hourly.Lowest_Hourly, min_hourly.Year \n",
                "FROM Employment_Project..Job_type jb\n",
                "JOIN min_hourly\n",
                "    ON jb.OCC_CODE = min_hourly.OCC_CODE\n",
                ""
            ],
            "metadata": {
                "azdata_cell_guid": "88f8b91c-7b62-4da9-b196-17dcc445f14d",
                "tags": [
                    "hide_input"
                ],
                "language": "sql"
            },
            "outputs": [],
            "execution_count": null
        },
        {
            "cell_type": "markdown",
            "source": [
                "Amount of employment changes for each jobs (group by occ\\_group and job\\_title, only consider jobs that is reported in all years)"
            ],
            "metadata": {
                "azdata_cell_guid": "da1186c7-ac1f-4d52-8c71-183693370009"
            },
            "attachments": {}
        },
        {
            "cell_type": "code",
            "source": [
                "--join tables together to make sure that jobs are listed in all 4 years\n",
                "    --Join table\n",
                "/*\n",
                "SELECT em.OCC_CODE, jb.Job_Title, em.Total_Employment, em.Year \n",
                "FROM Employment_Project..Employment em\n",
                "JOIN Employment_Project..Job_type jb\n",
                "    ON em.OCC_CODE = jb.OCC_CODE\n",
                "*/\n",
                "\n",
                "--finding yearly difference\n",
                "/*\n",
                "SELECT Year, OCC_CODE, Total_Employment,\n",
                "       LAG(Total_Employment) OVER ( \n",
                "           PARTITION BY OCC_CODE\n",
                "           ORDER BY Year) AS Employment_Previous_Year,\n",
                "       Total_Employment - LAG(Total_Employment) OVER ( \n",
                "           PARTITION BY OCC_CODE\n",
                "           ORDER BY Year) AS Year_Difference\n",
                "FROM Employment_Project..Employment;\n",
                "*/\n",
                "--Now, what to find the job name correspond to the code\n",
                "WITH annual_change AS(\n",
                "    SELECT Year, OCC_CODE, Total_Employment,\n",
                "           LAG(Total_Employment) OVER ( \n",
                "                PARTITION BY OCC_CODE\n",
                "                ORDER BY Year) AS Employment_Previous_Year,\n",
                "           Total_Employment - LAG(Total_Employment) OVER ( \n",
                "                PARTITION BY OCC_CODE\n",
                "                ORDER BY Year) AS Yearly_Difference\n",
                "    FROM Employment_Project..Employment\n",
                ")\n",
                "SELECT annual_change.OCC_CODE, jb.Job_Title, annual_change.Year, annual_change.Total_Employment,\n",
                "       annual_change.Employment_Previous_Year, annual_change.Yearly_Difference\n",
                "FROM annual_change\n",
                "JOIN Employment_Project..Job_type jb\n",
                "    ON annual_change.OCC_CODE = jb.OCC_CODE"
            ],
            "metadata": {
                "azdata_cell_guid": "8337ee2f-50fc-4344-b497-4e37c718510a",
                "tags": [
                    "hide_input"
                ],
                "language": "sql"
            },
            "outputs": [],
            "execution_count": null
        },
        {
            "cell_type": "markdown",
            "source": [
                "Job that increase (and decrease) in employment  the most throughout the years"
            ],
            "metadata": {
                "azdata_cell_guid": "c1a8a265-bf53-49cb-95f6-50fb54ebbcb0"
            },
            "attachments": {}
        },
        {
            "cell_type": "code",
            "source": [
                "--Job that increase the most\n",
                "WITH annual_change AS(\n",
                "    SELECT Year, OCC_CODE, Total_Employment,\n",
                "           LAG(Total_Employment) OVER ( \n",
                "                PARTITION BY OCC_CODE\n",
                "                ORDER BY Year) AS Employment_Previous_Year,\n",
                "           Total_Employment - LAG(Total_Employment) OVER ( \n",
                "                PARTITION BY OCC_CODE\n",
                "                ORDER BY Year) AS Yearly_Difference\n",
                "    FROM Employment_Project..Employment\n",
                ")\n",
                "SELECT annual_change.OCC_CODE, jb.Job_Title, annual_change.Total_Employment,\n",
                "       annual_change.Employment_Previous_Year, annual_change.Yearly_Difference AS Highest_Employment_Increase\n",
                "FROM annual_change\n",
                "JOIN Employment_Project..Job_type jb\n",
                "    ON annual_change.OCC_CODE = jb.OCC_CODE\n",
                "    WHERE annual_change.Yearly_Difference = (SELECT MAX(Yearly_Difference)\n",
                "                                             FROM annual_change)"
            ],
            "metadata": {
                "azdata_cell_guid": "993c9a35-fe00-407c-95f8-977460a21bba",
                "tags": [
                    "hide_input"
                ],
                "language": "sql"
            },
            "outputs": [],
            "execution_count": null
        },
        {
            "cell_type": "code",
            "source": [
                "--Job that decrease the most\n",
                "WITH annual_change AS(\n",
                "    SELECT Year, OCC_CODE, Total_Employment,\n",
                "           LAG(Total_Employment) OVER ( \n",
                "           PARTITION BY OCC_CODE\n",
                "           ORDER BY Year) AS Employment_Previous_Year,\n",
                "       Total_Employment - LAG(Total_Employment) OVER ( \n",
                "           PARTITION BY OCC_CODE\n",
                "           ORDER BY Year) AS Yearly_Difference\n",
                "    FROM Employment_Project..Employment\n",
                ")\n",
                "SELECT annual_change.OCC_CODE, jb.Job_Title, annual_change.Total_Employment,\n",
                "       annual_change.Employment_Previous_Year, annual_change.Yearly_Difference AS Highest_Employment_Decrease\n",
                "FROM annual_change\n",
                "JOIN Employment_Project..Job_type jb\n",
                "    ON annual_change.OCC_CODE = jb.OCC_CODE\n",
                "    WHERE annual_change.Yearly_Difference = (SELECT MIN(Yearly_Difference)\n",
                "                                             FROM annual_change)"
            ],
            "metadata": {
                "azdata_cell_guid": "a919cd1f-a1ef-4bb8-ab39-29f56e4525e5",
                "tags": [
                    "hide_input"
                ],
                "language": "sql"
            },
            "outputs": [],
            "execution_count": null
        },
        {
            "cell_type": "markdown",
            "source": [
                "Do jobs that payed the highest see any changes in employment?"
            ],
            "metadata": {
                "azdata_cell_guid": "7a811921-9cf6-4e42-924f-98532016607b"
            },
            "attachments": {}
        },
        {
            "cell_type": "code",
            "source": [
                "--highest paying job\n",
                "WITH annual_change AS(\n",
                "    SELECT Year, OCC_CODE, Total_Employment,\n",
                "           LAG(Total_Employment) OVER ( \n",
                "                PARTITION BY OCC_CODE\n",
                "                ORDER BY Year) AS Employment_Previous_Year,\n",
                "           Total_Employment - LAG(Total_Employment) OVER ( \n",
                "                PARTITION BY OCC_CODE\n",
                "                ORDER BY Year) AS Yearly_Difference\n",
                "    FROM Employment_Project..Employment\n",
                ")\n",
                "SELECT annual_change.OCC_CODE, jb.Job_Title, annual_change.Year, annual_change.Total_Employment,\n",
                "       annual_change.Employment_Previous_Year, annual_change.Yearly_Difference\n",
                "FROM annual_change\n",
                "JOIN Employment_Project..Job_type jb\n",
                "    ON annual_change.OCC_CODE = jb.OCC_CODE\n",
                "    --Anesthesiologists for 2018-2020 (cardiologist only got reported in 2021)\n",
                "    WHERE annual_change.OCC_CODE = 291211 \n",
                "--lowest paying job"
            ],
            "metadata": {
                "azdata_cell_guid": "26ae9866-e919-4c5c-9bc2-d118d84476b3",
                "tags": [
                    "hide_input"
                ],
                "language": "sql"
            },
            "outputs": [],
            "execution_count": null
        },
        {
            "cell_type": "markdown",
            "source": [
                "The amount of annual wages changing for each jobs in between each years (jobs must be reported in all years)"
            ],
            "metadata": {
                "azdata_cell_guid": "2f8ba7ba-b116-4715-a519-123d1074bc49"
            },
            "attachments": {}
        },
        {
            "cell_type": "code",
            "source": [
                "WITH annual_change AS(\n",
                "    SELECT Year, OCC_CODE, Annually_Mean,\n",
                "           LAG(Annually_Mean) OVER ( \n",
                "                PARTITION BY OCC_CODE\n",
                "                ORDER BY Year) AS Wage_Previous_Year,\n",
                "           Annually_Mean - LAG(Annually_Mean) OVER ( \n",
                "                PARTITION BY OCC_CODE\n",
                "                ORDER BY Year) AS Yearly_Difference\n",
                "    FROM Employment_Project..Employment\n",
                "    WHERE Pay_Hourly IS NULL\n",
                ")\n",
                "SELECT annual_change.OCC_CODE, jb.Job_Title, annual_change.Year, annual_change.Annually_Mean,\n",
                "       annual_change.Wage_Previous_Year, annual_change.Yearly_Difference AS Wage_Difference\n",
                "FROM annual_change\n",
                "JOIN Employment_Project..Job_type jb\n",
                "    ON annual_change.OCC_CODE = jb.OCC_CODE"
            ],
            "metadata": {
                "azdata_cell_guid": "844813ec-d528-489e-8187-60a2fa1ec957",
                "tags": [
                    "hide_input"
                ],
                "language": "sql"
            },
            "outputs": [],
            "execution_count": null
        },
        {
            "cell_type": "markdown",
            "source": [
                "Job that has the most increase (or decrease) in wages"
            ],
            "metadata": {
                "azdata_cell_guid": "cf03b9cb-c944-40f0-99f1-c6b724da565b"
            },
            "attachments": {}
        },
        {
            "cell_type": "code",
            "source": [
                "--Highest increase in wage\n",
                "WITH annual_change AS(\n",
                "    SELECT Year, OCC_CODE, Annually_Mean,\n",
                "           LAG(Annually_Mean) OVER ( \n",
                "                PARTITION BY OCC_CODE\n",
                "                ORDER BY Year) AS Wage_Previous_Year,\n",
                "           Annually_Mean - LAG(Annually_Mean) OVER ( \n",
                "                PARTITION BY OCC_CODE\n",
                "                ORDER BY Year) AS Yearly_Difference\n",
                "    FROM Employment_Project..Employment\n",
                "    WHERE Pay_Hourly IS NULL\n",
                ")\n",
                "SELECT annual_change.OCC_CODE, jb.Job_Title, annual_change.Annually_Mean,\n",
                "       annual_change.Wage_Previous_Year, annual_change.Yearly_Difference AS Highest_Wage_Increase\n",
                "FROM annual_change\n",
                "JOIN Employment_Project..Job_type jb\n",
                "    ON annual_change.OCC_CODE = jb.OCC_CODE\n",
                "    WHERE annual_change.Yearly_Difference = (SELECT MAX(Yearly_Difference)\n",
                "                                             FROM annual_change)"
            ],
            "metadata": {
                "azdata_cell_guid": "797cba9a-576d-4fdb-85c5-13f58b32cd7c",
                "tags": [
                    "hide_input"
                ],
                "language": "sql"
            },
            "outputs": [],
            "execution_count": null
        },
        {
            "cell_type": "code",
            "source": [
                "--Highest wage decrease\n",
                "WITH annual_change AS(\n",
                "    SELECT Year, OCC_CODE, Annually_Mean,\n",
                "           LAG(Annually_Mean) OVER ( \n",
                "                PARTITION BY OCC_CODE\n",
                "                ORDER BY Year) AS Wage_Previous_Year,\n",
                "           Annually_Mean - LAG(Annually_Mean) OVER ( \n",
                "                PARTITION BY OCC_CODE\n",
                "                ORDER BY Year) AS Yearly_Difference\n",
                "    FROM Employment_Project..Employment\n",
                "    WHERE Pay_Hourly IS NULL\n",
                ")\n",
                "SELECT annual_change.OCC_CODE, jb.Job_Title, annual_change.Annually_Mean,\n",
                "       annual_change.Wage_Previous_Year, annual_change.Yearly_Difference AS Highest_Wage_Decrease\n",
                "FROM annual_change\n",
                "JOIN Employment_Project..Job_type jb\n",
                "    ON annual_change.OCC_CODE = jb.OCC_CODE\n",
                "    WHERE annual_change.Yearly_Difference = (SELECT MIN(Yearly_Difference)\n",
                "                                             FROM annual_change)"
            ],
            "metadata": {
                "azdata_cell_guid": "5111b377-24c8-4b64-b834-1cabe93cdf29",
                "tags": [
                    "hide_input"
                ],
                "language": "sql"
            },
            "outputs": [],
            "execution_count": null
        }
    ]
}